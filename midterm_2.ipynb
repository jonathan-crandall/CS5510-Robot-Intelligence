{
 "cells": [
  {
   "cell_type": "markdown",
   "metadata": {},
   "source": [
    "# Part A\n",
    "\n",
    "Assume that the height of Z is 1 to simplify calculations.\n",
    "\n",
    "$.96 \\pi$"
   ]
  },
  {
   "cell_type": "markdown",
   "metadata": {},
   "source": [
    "# Part B\n",
    "\n",
    "## DH parameters\n",
    "\n",
    "| Link | $a_i$ | $\\alpha_i$ | $d_i$ | $\\theta_i$ |\n",
    "| ---- | ----- | ---------- | ------- | ---------- |\n",
    "| 1    | $l_1$ | 0          | 0       | $\\theta_1$ |\n",
    "| 2    | $l_2$ | 0          | 0       | $\\theta_2$ |\n",
    "| 3    | 0     | 0          | 0       | $\\theta_3$ |\n",
    "| 4    | 0     | 0          | $d_4$     | 0          |\n"
   ]
  },
  {
   "cell_type": "markdown",
   "metadata": {},
   "source": [
    "# Part C\n",
    "\n",
    "$\\theta_1 = 30\\degree$ \\\n",
    "$\\theta_2 = 45\\degree$ \\\n",
    "$\\theta_3 = 90\\degree$ \\\n",
    "$d = 14cm$"
   ]
  },
  {
   "cell_type": "code",
   "execution_count": 7,
   "metadata": {},
   "outputs": [
    {
     "name": "stdout",
     "output_type": "stream",
     "text": [
      "[[ 0.25881905 -0.96592583  0.          0.62314286]\n",
      " [ 0.96592583  0.25881905  0.          0.68637033]\n",
      " [ 0.          0.          1.          0.        ]\n",
      " [ 0.          0.          0.          1.        ]]\n"
     ]
    }
   ],
   "source": [
    "import numpy as np\n",
    "from math import sin, cos, radians\n",
    "\n",
    "l1 = 0.6\n",
    "z1_theta = radians(30)\n",
    "l2 = 0.4\n",
    "z2_theta = radians(45)\n",
    "z3_theta = radians(90)\n",
    "d = 0.14\n",
    "\n",
    "A1 = np.array(\n",
    "    [\n",
    "        [cos(z1_theta), -sin(z1_theta), 0, l1 * cos(z1_theta)],\n",
    "        [sin(z1_theta), cos(z1_theta), 0, l1 * sin(z1_theta)],\n",
    "        [0, 0, 1, 0],\n",
    "        [0, 0, 0, 1],\n",
    "    ]\n",
    ")\n",
    "A2 = np.array(\n",
    "    [\n",
    "        [cos(z2_theta), -sin(z2_theta), 0, l2 * cos(z2_theta)],\n",
    "        [sin(z2_theta), cos(z2_theta), 0, l2 * sin(z2_theta)],\n",
    "        [0, 0, 1, 0],\n",
    "        [0, 0, 0, 1],\n",
    "    ]\n",
    ")\n",
    "A3 = np.array(\n",
    "    [\n",
    "        [cos(z3_theta), -sin(z3_theta), 0, 0],\n",
    "        [sin(z3_theta), cos(z3_theta), 0, 0],\n",
    "        [0, 0, 1, 0],\n",
    "        [0, 0, 0, 1],\n",
    "    ]\n",
    ")\n",
    "A4 = np.array([[1, 0, 0, 0],\n",
    "               [0, 1, 0, 0],\n",
    "               [0, 0, 1, d],\n",
    "               [0, 0, 0, 1]])\n",
    "\n",
    "\n",
    "print(np.matmul(A1, A2))\n",
    "T1 = np.matmul(np.matmul(np.matmul(A1, A2), A3), A4)\n"
   ]
  }
 ],
 "metadata": {
  "kernelspec": {
   "display_name": "Python 3.10.7 64-bit (microsoft store)",
   "language": "python",
   "name": "python3"
  },
  "language_info": {
   "codemirror_mode": {
    "name": "ipython",
    "version": 3
   },
   "file_extension": ".py",
   "mimetype": "text/x-python",
   "name": "python",
   "nbconvert_exporter": "python",
   "pygments_lexer": "ipython3",
   "version": "3.10.7"
  },
  "orig_nbformat": 4,
  "vscode": {
   "interpreter": {
    "hash": "0607fbd3cd57533319508c8a7f698db08f8e9b08938f63a4fe6a1b35ca7dc87f"
   }
  }
 },
 "nbformat": 4,
 "nbformat_minor": 2
}
