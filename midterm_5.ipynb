{
  "cells": [
    {
      "cell_type": "markdown",
      "metadata": {},
      "source": [
        "# a\n",
        "\n",
        "Merits of reinforced learning:\n",
        "1. If you do it right you can solve complex issues with fairly small amounts of code.\n",
        "2. It can run quickly compared to some computational methods of solving problems (like with inverse kinematics).\n",
        "3. The model can often be self correcting given enough training.\n",
        "\n",
        "Demerits:\n",
        "1. It isn't always consistent, depending on how stocastic the environment is.\n",
        "2. Hyperparameters can be very finicky, and sometimes you can't figure out the \"settings\" to make something work well\n",
        "3. In many problems it can be computationally expensive, like when dealing with image data using convolutional neural networks."
      ]
    },
    {
      "cell_type": "markdown",
      "metadata": {},
      "source": [
        "# b\n",
        "![RL vs controls](res\\5_diagrams.jpg)"
      ]
    },
    {
      "cell_type": "markdown",
      "metadata": {},
      "source": [
        "A reinforcement learning model doesn't interpret data the same way as a controller does. While a controller makes measurements of its surroundings, and then acts directly on that information to adjust for bias and make decisions, a RL model is more abstract. It gains rewards for doing something correctly, and slowly trains itself on the environment to make actions that provide more rewards. While this allows for solving much more complex systems, it doesn't provide the same control over the system as a controller does."
      ]
    },
    {
      "cell_type": "code",
      "execution_count": 22,
      "metadata": {
        "colab": {
          "base_uri": "https://localhost:8080/"
        },
        "id": "zkP9ett8xTXK",
        "outputId": "8628765b-93a8-4a20-980b-516dddc740bd"
      },
      "outputs": [
        {
          "name": "stdout",
          "output_type": "stream",
          "text": [
            "Requirement already satisfied: gym[classic_control] in c:\\users\\dalyn\\code\\cs5510\\cs5510-robot-intelligence\\.venv\\lib\\site-packages (0.26.2)Note: you may need to restart the kernel to use updated packages.\n",
            "\n",
            "Requirement already satisfied: numpy>=1.18.0 in c:\\users\\dalyn\\code\\cs5510\\cs5510-robot-intelligence\\.venv\\lib\\site-packages (from gym[classic_control]) (1.23.4)\n",
            "Requirement already satisfied: cloudpickle>=1.2.0 in c:\\users\\dalyn\\code\\cs5510\\cs5510-robot-intelligence\\.venv\\lib\\site-packages (from gym[classic_control]) (2.2.0)\n",
            "Requirement already satisfied: gym-notices>=0.0.4 in c:\\users\\dalyn\\code\\cs5510\\cs5510-robot-intelligence\\.venv\\lib\\site-packages (from gym[classic_control]) (0.0.8)\n",
            "Requirement already satisfied: pygame==2.1.0 in c:\\users\\dalyn\\code\\cs5510\\cs5510-robot-intelligence\\.venv\\lib\\site-packages (from gym[classic_control]) (2.1.0)\n",
            "Requirement already satisfied: seaborn in c:\\users\\dalyn\\code\\cs5510\\cs5510-robot-intelligence\\.venv\\lib\\site-packages (0.12.1)\n",
            "Requirement already satisfied: matplotlib!=3.6.1,>=3.1 in c:\\users\\dalyn\\code\\cs5510\\cs5510-robot-intelligence\\.venv\\lib\\site-packages (from seaborn) (3.6.0)\n",
            "Requirement already satisfied: pandas>=0.25 in c:\\users\\dalyn\\code\\cs5510\\cs5510-robot-intelligence\\.venv\\lib\\site-packages (from seaborn) (1.5.1)\n",
            "Requirement already satisfied: numpy>=1.17 in c:\\users\\dalyn\\code\\cs5510\\cs5510-robot-intelligence\\.venv\\lib\\site-packages (from seaborn) (1.23.4)\n",
            "Requirement already satisfied: python-dateutil>=2.7 in c:\\users\\dalyn\\code\\cs5510\\cs5510-robot-intelligence\\.venv\\lib\\site-packages (from matplotlib!=3.6.1,>=3.1->seaborn) (2.8.2)\n",
            "Requirement already satisfied: pyparsing>=2.2.1 in c:\\users\\dalyn\\code\\cs5510\\cs5510-robot-intelligence\\.venv\\lib\\site-packages (from matplotlib!=3.6.1,>=3.1->seaborn) (3.0.9)\n",
            "Requirement already satisfied: pillow>=6.2.0 in c:\\users\\dalyn\\code\\cs5510\\cs5510-robot-intelligence\\.venv\\lib\\site-packages (from matplotlib!=3.6.1,>=3.1->seaborn) (9.2.0)\n",
            "Requirement already satisfied: fonttools>=4.22.0 in c:\\users\\dalyn\\code\\cs5510\\cs5510-robot-intelligence\\.venv\\lib\\site-packages (from matplotlib!=3.6.1,>=3.1->seaborn) (4.37.4)\n",
            "Requirement already satisfied: cycler>=0.10 in c:\\users\\dalyn\\code\\cs5510\\cs5510-robot-intelligence\\.venv\\lib\\site-packages (from matplotlib!=3.6.1,>=3.1->seaborn) (0.11.0)\n",
            "Requirement already satisfied: packaging>=20.0 in c:\\users\\dalyn\\code\\cs5510\\cs5510-robot-intelligence\\.venv\\lib\\site-packages (from matplotlib!=3.6.1,>=3.1->seaborn) (21.3)\n",
            "Requirement already satisfied: contourpy>=1.0.1 in c:\\users\\dalyn\\code\\cs5510\\cs5510-robot-intelligence\\.venv\\lib\\site-packages (from matplotlib!=3.6.1,>=3.1->seaborn) (1.0.5)\n",
            "Requirement already satisfied: kiwisolver>=1.0.1 in c:\\users\\dalyn\\code\\cs5510\\cs5510-robot-intelligence\\.venv\\lib\\site-packages (from matplotlib!=3.6.1,>=3.1->seaborn) (1.4.4)\n",
            "Requirement already satisfied: pytz>=2020.1 in c:\\users\\dalyn\\code\\cs5510\\cs5510-robot-intelligence\\.venv\\lib\\site-packages (from pandas>=0.25->seaborn) (2022.5)\n",
            "Requirement already satisfied: six>=1.5 in c:\\users\\dalyn\\code\\cs5510\\cs5510-robot-intelligence\\.venv\\lib\\site-packages (from python-dateutil>=2.7->matplotlib!=3.6.1,>=3.1->seaborn) (1.16.0)\n",
            "Note: you may need to restart the kernel to use updated packages.\n"
          ]
        }
      ],
      "source": [
        "%pip install gym[classic_control] --upgrade gym\n",
        "%pip install seaborn"
      ]
    },
    {
      "cell_type": "code",
      "execution_count": 23,
      "metadata": {
        "id": "ow3zerF24CI_"
      },
      "outputs": [],
      "source": [
        "from IPython.display import HTML\n",
        "from base64 import b64encode\n",
        "\n",
        "def show_video(file_name):\n",
        "    mp4 = open(file_name, \"rb\").read()\n",
        "    data_url = \"data:video/mp4;base64,\" + b64encode(mp4).decode()\n",
        "    return HTML(\"\"\"\n",
        "<video width=400 controls>\n",
        "    <source src=\"%s\" type=\"video/mp4\">\n",
        "</video>\n",
        "\"\"\" % data_url)"
      ]
    },
    {
      "cell_type": "code",
      "execution_count": 24,
      "metadata": {
        "id": "FplP9WYZ4HQX"
      },
      "outputs": [],
      "source": [
        "import numpy as np\n",
        "import gym\n",
        "\n",
        "import matplotlib.pyplot as plt\n",
        "import seaborn as sns"
      ]
    },
    {
      "cell_type": "code",
      "execution_count": 25,
      "metadata": {
        "id": "DxIXjmCSG4xr"
      },
      "outputs": [],
      "source": [
        "class Agent(object):\n",
        "    def __init__(self):\n",
        "        self.quality_table = np.zeros(shape=(3, 3, 6, 6, 2))\n",
        "\n",
        "        self.decay = 20\n",
        "        self.min_randomness = 0.01\n",
        "        self.min_learning_rate = 0.01\n",
        "        self.randomness = 0\n",
        "        self.learning_rate = 0\n",
        "\n",
        "    def act(self, state):\n",
        "        if np.random.random() <= self.randomness: # Choose a random action sometimes\n",
        "            return np.random.randint(0, 2)\n",
        "        return np.argmax(self.quality_table[state]) # Otherwise, take the best action\n",
        "\n",
        "    def update(self, state, next_state, action, reward):\n",
        "        target = reward + np.max(self.quality_table[next_state])\n",
        "\n",
        "        self.quality_table[state][action] += (\n",
        "            target - self.quality_table[state][action]\n",
        "        ) * self.learning_rate\n",
        "\n",
        "    def update_learning_rate(self, iteration):\n",
        "        self.learning_rate = max(\n",
        "            self.min_learning_rate,\n",
        "            min(1.0, 1.0 - np.log10(iteration / self.decay))\n",
        "        )\n",
        "        self.randomness = self.learning_rate\n",
        "\n",
        "    @staticmethod\n",
        "    def quantize_state(state):\n",
        "        return (\n",
        "            Agent.rescale(state[0], 4.8, -4.8, 3),\n",
        "            Agent.rescale(state[1], 1.0, -1.0, 3),\n",
        "            Agent.rescale(state[2], 0.418, -0.418, 6),\n",
        "            Agent.rescale(state[3], 1.0, -1.0, 6)\n",
        "        )\n",
        "\n",
        "    @staticmethod\n",
        "    def rescale(x, high, low, buckets):\n",
        "        x = ((x + abs(low)) / (high - low))\n",
        "        x = int(round((buckets - 1) * x))\n",
        "        x = min(buckets - 1, max(0, x))\n",
        "        return x\n"
      ]
    },
    {
      "cell_type": "code",
      "execution_count": 26,
      "metadata": {
        "colab": {
          "base_uri": "https://localhost:8080/"
        },
        "id": "I4EkHhh5yjJy",
        "outputId": "dedb1efe-4c5b-46c9-cbbd-710c3756ab35"
      },
      "outputs": [
        {
          "name": "stderr",
          "output_type": "stream",
          "text": [
            "c:\\Users\\dalyn\\Code\\CS5510\\CS5510-Robot-Intelligence\\.venv\\lib\\site-packages\\gym\\wrappers\\record_video.py:75: UserWarning: \u001b[33mWARN: Overwriting existing videos at c:\\Users\\dalyn\\Code\\CS5510\\CS5510-Robot-Intelligence\\videos folder (try specifying a different `video_folder` for the `RecordVideo` wrapper if this is not desired)\u001b[0m\n",
            "  logger.warn(\n"
          ]
        },
        {
          "name": "stdout",
          "output_type": "stream",
          "text": [
            "Moviepy - Building video c:\\Users\\dalyn\\Code\\CS5510\\CS5510-Robot-Intelligence\\videos\\rl-video-episode-500.mp4.\n",
            "Moviepy - Writing video c:\\Users\\dalyn\\Code\\CS5510\\CS5510-Robot-Intelligence\\videos\\rl-video-episode-500.mp4\n",
            "\n"
          ]
        },
        {
          "name": "stderr",
          "output_type": "stream",
          "text": [
            "                                                  \r"
          ]
        },
        {
          "name": "stdout",
          "output_type": "stream",
          "text": [
            "Moviepy - Done !\n",
            "Moviepy - video ready c:\\Users\\dalyn\\Code\\CS5510\\CS5510-Robot-Intelligence\\videos\\rl-video-episode-500.mp4\n",
            "Moviepy - Building video c:\\Users\\dalyn\\Code\\CS5510\\CS5510-Robot-Intelligence\\videos\\rl-video-episode-0.mp4.\n",
            "Moviepy - Writing video c:\\Users\\dalyn\\Code\\CS5510\\CS5510-Robot-Intelligence\\videos\\rl-video-episode-0.mp4\n",
            "\n"
          ]
        },
        {
          "name": "stderr",
          "output_type": "stream",
          "text": [
            "                                                   "
          ]
        },
        {
          "name": "stdout",
          "output_type": "stream",
          "text": [
            "Moviepy - Done !\n",
            "Moviepy - video ready c:\\Users\\dalyn\\Code\\CS5510\\CS5510-Robot-Intelligence\\videos\\rl-video-episode-0.mp4\n",
            "Iteration: 50 | Moving-Average Steps: 22.9600\n"
          ]
        },
        {
          "name": "stderr",
          "output_type": "stream",
          "text": [
            "\r"
          ]
        },
        {
          "name": "stdout",
          "output_type": "stream",
          "text": [
            "Iteration: 100 | Moving-Average Steps: 46.0000\n",
            "Moviepy - Building video c:\\Users\\dalyn\\Code\\CS5510\\CS5510-Robot-Intelligence\\videos\\rl-video-episode-100.mp4.\n",
            "Moviepy - Writing video c:\\Users\\dalyn\\Code\\CS5510\\CS5510-Robot-Intelligence\\videos\\rl-video-episode-100.mp4\n",
            "\n"
          ]
        },
        {
          "name": "stderr",
          "output_type": "stream",
          "text": [
            "                                                   "
          ]
        },
        {
          "name": "stdout",
          "output_type": "stream",
          "text": [
            "Moviepy - Done !\n",
            "Moviepy - video ready c:\\Users\\dalyn\\Code\\CS5510\\CS5510-Robot-Intelligence\\videos\\rl-video-episode-100.mp4\n",
            "Iteration: 150 | Moving-Average Steps: 89.9200\n"
          ]
        },
        {
          "name": "stderr",
          "output_type": "stream",
          "text": [
            "\r"
          ]
        },
        {
          "name": "stdout",
          "output_type": "stream",
          "text": [
            "Iteration: 200 | Moving-Average Steps: 134.8600\n",
            "Moviepy - Building video c:\\Users\\dalyn\\Code\\CS5510\\CS5510-Robot-Intelligence\\videos\\rl-video-episode-200.mp4.\n",
            "Moviepy - Writing video c:\\Users\\dalyn\\Code\\CS5510\\CS5510-Robot-Intelligence\\videos\\rl-video-episode-200.mp4\n",
            "\n"
          ]
        },
        {
          "name": "stderr",
          "output_type": "stream",
          "text": [
            "                                                              \r"
          ]
        },
        {
          "name": "stdout",
          "output_type": "stream",
          "text": [
            "Moviepy - Done !\n",
            "Moviepy - video ready c:\\Users\\dalyn\\Code\\CS5510\\CS5510-Robot-Intelligence\\videos\\rl-video-episode-200.mp4\n",
            "Iteration: 250 | Moving-Average Steps: 127.6800\n",
            "Iteration: 300 | Moving-Average Steps: 131.4200\n",
            "Moviepy - Building video c:\\Users\\dalyn\\Code\\CS5510\\CS5510-Robot-Intelligence\\videos\\rl-video-episode-300.mp4.\n",
            "Moviepy - Writing video c:\\Users\\dalyn\\Code\\CS5510\\CS5510-Robot-Intelligence\\videos\\rl-video-episode-300.mp4\n",
            "\n"
          ]
        },
        {
          "name": "stderr",
          "output_type": "stream",
          "text": [
            "                                                              \r"
          ]
        },
        {
          "name": "stdout",
          "output_type": "stream",
          "text": [
            "Moviepy - Done !\n",
            "Moviepy - video ready c:\\Users\\dalyn\\Code\\CS5510\\CS5510-Robot-Intelligence\\videos\\rl-video-episode-300.mp4\n",
            "Iteration: 350 | Moving-Average Steps: 126.5800\n",
            "Iteration: 400 | Moving-Average Steps: 128.3600\n",
            "Moviepy - Building video c:\\Users\\dalyn\\Code\\CS5510\\CS5510-Robot-Intelligence\\videos\\rl-video-episode-400.mp4.\n",
            "Moviepy - Writing video c:\\Users\\dalyn\\Code\\CS5510\\CS5510-Robot-Intelligence\\videos\\rl-video-episode-400.mp4\n",
            "\n"
          ]
        },
        {
          "name": "stderr",
          "output_type": "stream",
          "text": [
            "                                                              \r"
          ]
        },
        {
          "name": "stdout",
          "output_type": "stream",
          "text": [
            "Moviepy - Done !\n",
            "Moviepy - video ready c:\\Users\\dalyn\\Code\\CS5510\\CS5510-Robot-Intelligence\\videos\\rl-video-episode-400.mp4\n",
            "Iteration: 450 | Moving-Average Steps: 132.2800\n",
            "Iteration: 500 | Moving-Average Steps: 130.2400\n"
          ]
        }
      ],
      "source": [
        "max_episodes = 500\n",
        "logging_iteration = 50\n",
        "\n",
        "environment = gym.wrappers.RecordVideo(\n",
        "    gym.make(\"CartPole-v1\", render_mode=\"rgb_array\"),\n",
        "    video_folder=\"./videos\",\n",
        "    episode_trigger=lambda x: x % (logging_iteration*2) == 0\n",
        ")\n",
        "\n",
        "agent = Agent()\n",
        "learning = []\n",
        "\n",
        "for iteration in range(1, max_episodes + 1):\n",
        "    steps = 0\n",
        "    running = True\n",
        "    state = environment.reset()\n",
        "    state_array, _ = state\n",
        "    state = Agent.quantize_state(state_array)\n",
        "\n",
        "    agent.update_learning_rate(iteration)\n",
        "\n",
        "    while running:\n",
        "        action = agent.act(state)\n",
        "        next_state, reward, done, *_ = environment.step(action)\n",
        "\n",
        "        next_state = Agent.quantize_state(next_state)\n",
        "        agent.update(state, next_state, action, reward)\n",
        "        state = next_state\n",
        "\n",
        "        if done: # This is supposed to have an environment cap at 500 but for some reason it is going longer\n",
        "            running = False\n",
        "\n",
        "        steps += 1\n",
        "\n",
        "    learning.append(steps)\n",
        "    if iteration % logging_iteration == 0:\n",
        "        print(f\"Iteration: {iteration} | Moving-Average Steps: {np.mean(learning[-logging_iteration:]):.4f}\")"
      ]
    },
    {
      "cell_type": "code",
      "execution_count": 27,
      "metadata": {
        "colab": {
          "base_uri": "https://localhost:8080/"
        },
        "id": "B4ACH7qIpyfK",
        "outputId": "267dcddd-9f27-4f11-de13-7679654da1df"
      },
      "outputs": [
        {
          "data": {
            "image/png": "[encoded data removed]",
            "text/plain": [
              "<Figure size 640x480 with 1 Axes>"
            ]
          },
          "metadata": {},
          "output_type": "display_data"
        }
      ],
      "source": [
        "x = np.arange(0, len(learning), 25)\n",
        "y = np.add.reduceat(learning, x) / 25\n",
        "\n",
        "sns.lineplot(x=x, y=y)\n",
        "plt.title(\"Cart Steps\")\n",
        "plt.xlabel(\"Episodes\")\n",
        "plt.ylabel(\"Steps\")\n",
        "plt.show()"
      ]
    },
    {
      "cell_type": "code",
      "execution_count": 28,
      "metadata": {
        "colab": {
          "base_uri": "https://localhost:8080/"
        },
        "id": "iDeoVLgt4fie",
        "outputId": "42180d6c-6816-46f9-a968-0049cd3d2836"
      },
      "outputs": [
        {
          "data": {
            "text/html": [
              "\n",
              "<video width=400 controls>\n",
              "    <source src=\"data:video/mp4;base64,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\" type=\"video/mp4\">\n",
              "</video>\n"
            ],
            "text/plain": [
              "<IPython.core.display.HTML object>"
            ]
          },
          "metadata": {},
          "output_type": "display_data"
        },
        {
          "data": {
            "text/html": [
              "\n",
              "<video width=400 controls>\n",
              "    <source src=\"data:video/mp4;base64,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\" type=\"video/mp4\">\n",
              "</video>\n"
            ],
            "text/plain": [
              "<IPython.core.display.HTML object>"
            ]
          },
          "metadata": {},
          "output_type": "display_data"
        }
      ],
      "source": [
        "display(show_video(\"./videos/rl-video-episode-0.mp4\"))\n",
        "display(show_video(\"./videos/rl-video-episode-500.mp4\"))"
      ]
    }
  ],
  "metadata": {
    "colab": {
      "collapsed_sections": [],
      "provenance": []
    },
    "kernelspec": {
      "display_name": "Python 3.10.7 ('.venv': venv)",
      "language": "python",
      "name": "python3"
    },
    "language_info": {
      "codemirror_mode": {
        "name": "ipython",
        "version": 3
      },
      "file_extension": ".py",
      "mimetype": "text/x-python",
      "name": "python",
      "nbconvert_exporter": "python",
      "pygments_lexer": "ipython3",
      "version": "3.10.7"
    },
    "vscode": {
      "interpreter": {
        "hash": "446b5fdae7116834a89d557441c6fc2a79d4916edce86c70e8966fdda0f3b4b8"
      }
    }
  },
  "nbformat": 4,
  "nbformat_minor": 0
}
