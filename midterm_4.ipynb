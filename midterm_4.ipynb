{
 "cells": [
  {
   "cell_type": "markdown",
   "metadata": {},
   "source": [
    "# Problem 4\n",
    "\n",
    "## Part A: Cartpole Equations of Motion"
   ]
  },
  {
   "cell_type": "markdown",
   "metadata": {},
   "source": [
    "$\\ddot{\\theta} = \\frac{g sin\\theta + cos\\theta (\\frac{-F -m_p l \\dot{\\theta}^2 sin\\theta}{m_c + m_p})}{l(\\frac{4}{3} - \\frac{m_p cos^2\\theta}{m_c + m_p})}$\n",
    "\n",
    "$\\ddot{x} = \\frac{F + m_p l (\\dot{\\theta}^2 sin\\theta - \\ddot{\\theta} cos\\theta)}{m_c + m_p}$"
   ]
  },
  {
   "cell_type": "markdown",
   "metadata": {},
   "source": [
    "These two equations govern the motion of the cartpole system. The first equation derives the angular acceleration of the pole based on gravity, the current angle of the pole, our pushing force, the length of the pole, the mass of the pole and of the cart, and of the current angular velocity of the pole. The second equation derives the acceleration of the cart in the x-axis based on our pushing force, the mass of the the pole and of the cart, the length of the pole, the current angle of the pole, the angular velocity, and the angular acceleration as derived in the previous equation.\n",
    "\n",
    "What these equations essentially tell us is the behavior that we can mentally simulate even without the use of equations: \n",
    "When the pole starts to tilt in one direction, its angle will accelerate in that direction while the cart will accelerate in the opposite direction. By using force on the cart, we can counteract that movement to a certain degree.  "
   ]
  },
  {
   "cell_type": "markdown",
   "metadata": {},
   "source": [
    "## Part B: Cartpole Controller"
   ]
  },
  {
   "cell_type": "code",
   "execution_count": 3,
   "metadata": {},
   "outputs": [
    {
     "name": "stdout",
     "output_type": "stream",
     "text": [
      "Requirement already satisfied: gym[classic_control] in c:\\users\\dalyn\\code\\cs5510\\cs5510-robot-intelligence\\.venv\\lib\\site-packages (0.26.2)\n",
      "Requirement already satisfied: cloudpickle>=1.2.0 in c:\\users\\dalyn\\code\\cs5510\\cs5510-robot-intelligence\\.venv\\lib\\site-packages (from gym[classic_control]) (2.2.0)\n",
      "Requirement already satisfied: numpy>=1.18.0 in c:\\users\\dalyn\\code\\cs5510\\cs5510-robot-intelligence\\.venv\\lib\\site-packages (from gym[classic_control]) (1.23.4)\n",
      "Requirement already satisfied: gym-notices>=0.0.4 in c:\\users\\dalyn\\code\\cs5510\\cs5510-robot-intelligence\\.venv\\lib\\site-packages (from gym[classic_control]) (0.0.8)\n",
      "Requirement already satisfied: pygame==2.1.0 in c:\\users\\dalyn\\code\\cs5510\\cs5510-robot-intelligence\\.venv\\lib\\site-packages (from gym[classic_control]) (2.1.0)\n",
      "Note: you may need to restart the kernel to use updated packages.\n"
     ]
    }
   ],
   "source": [
    "%pip install gym[classic_control] --upgrade gym"
   ]
  },
  {
   "cell_type": "markdown",
   "metadata": {},
   "source": [
    "A simple controller that moves right if angular acceleration is positive and left otherwise. It functions decently well and could balance it forever on an infinite track. A video demonstrating it in action can be found in the files (cartpolevid.mp4).\n",
    "\n",
    "The below may crash depending on your packages and system, but the output video will still be placed in the current directory."
   ]
  },
  {
   "cell_type": "code",
   "execution_count": 4,
   "metadata": {},
   "outputs": [
    {
     "name": "stdout",
     "output_type": "stream",
     "text": [
      "Moviepy - Building video cartpolevid.mp4.\n",
      "Moviepy - Writing video cartpolevid.mp4\n",
      "\n"
     ]
    },
    {
     "name": "stderr",
     "output_type": "stream",
     "text": [
      "                                                               \r"
     ]
    },
    {
     "name": "stdout",
     "output_type": "stream",
     "text": [
      "Moviepy - Done !\n",
      "Moviepy - video ready cartpolevid.mp4\n"
     ]
    }
   ],
   "source": [
    "import numpy as np\n",
    "import gym\n",
    "\n",
    "environment = gym.make(\"CartPole-v1\", render_mode=\"rgb_array\")\n",
    "recorder = gym.wrappers.monitoring.video_recorder.VideoRecorder(env=environment, path=\"cartpolevid.mp4\")\n",
    "\n",
    "state = environment.reset()\n",
    "done = False\n",
    "steps = 0\n",
    "\n",
    "while not done:\n",
    "    steps += 1\n",
    "    action = 0\n",
    "    if steps > 1 and state[3] > 0:\n",
    "        action = 1\n",
    "    state, reward, done, *_ = environment.step(action)\n",
    "    \n",
    "    recorder.capture_frame()\n",
    "\n",
    "    if steps > 1000:\n",
    "        done = True\n",
    "\n",
    "recorder.close()\n",
    "\n"
   ]
  },
  {
   "cell_type": "markdown",
   "metadata": {},
   "source": [
    "## Part C: Unrecoverable Angle"
   ]
  },
  {
   "cell_type": "markdown",
   "metadata": {},
   "source": [
    "We can find the angle at which the pole cannot be recovered by using the equation for angular acceleration. If we set our angular acceleration and angular velocity to zero as well as our force to our designated maximum force, it becomes a simple (well, kinda) algebra problem to get the angle. I will show the steps below:"
   ]
  },
  {
   "cell_type": "markdown",
   "metadata": {},
   "source": [
    "$\\ddot{\\theta} = \\frac{g sin\\theta + cos\\theta (\\frac{-F -m_p l \\dot{\\theta}^2 sin\\theta}{m_c + m_p})}{l(\\frac{4}{3} - \\frac{m_p cos^2\\theta}{m_c + m_p})}$\n",
    "\n",
    "$0 = \\frac{9.81 sin\\theta + cos\\theta (\\frac{-6}{4.2})}{(\\frac{4}{3} - \\frac{0.2 cos^2\\theta}{4.2})}$\n",
    "\n",
    "$0 = 9.81 sin\\theta + cos\\theta (\\frac{-6}{4.2})$\n",
    "\n",
    "$0 = 9.81 tan\\theta - \\frac{6}{4.2}$\n",
    "\n",
    "$tan\\theta = 0.1456$\n",
    "\n",
    "$\\theta = 0.1446$ rad or $8.2864^{\\circ}$"
   ]
  },
  {
   "cell_type": "markdown",
   "metadata": {},
   "source": [
    "We can know that the maximum recoverable angle is found at zero angular momentum and velocity and our maximum force because at that point, any additional force would cause our angular acceleration to be negative (or positive based on the direction) and moving towrds recovery. However, at our maximum force, we are unable to move towards recovery at that angle and can only balance the pole at that angle by maintaining constant force or letting it fall by lessening the force."
   ]
  }
 ],
 "metadata": {
  "kernelspec": {
   "display_name": "Python 3.10.7 ('.venv': venv)",
   "language": "python",
   "name": "python3"
  },
  "language_info": {
   "codemirror_mode": {
    "name": "ipython",
    "version": 3
   },
   "file_extension": ".py",
   "mimetype": "text/x-python",
   "name": "python",
   "nbconvert_exporter": "python",
   "pygments_lexer": "ipython3",
   "version": "3.10.7"
  },
  "orig_nbformat": 4,
  "vscode": {
   "interpreter": {
    "hash": "446b5fdae7116834a89d557441c6fc2a79d4916edce86c70e8966fdda0f3b4b8"
   }
  }
 },
 "nbformat": 4,
 "nbformat_minor": 2
}
