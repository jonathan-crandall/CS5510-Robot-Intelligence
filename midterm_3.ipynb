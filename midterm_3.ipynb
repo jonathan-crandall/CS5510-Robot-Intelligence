{
 "cells": [
  {
   "cell_type": "code",
   "execution_count": 277,
   "metadata": {},
   "outputs": [],
   "source": [
    "from math import radians, sqrt, sin, cos\n",
    "import random\n",
    "import torch as trch\n",
    "import numpy as np\n",
    "\n",
    "x_goal = 1.2\n",
    "y_goal = 0.8\n",
    "z_goal = 0.5\n",
    "\n",
    "t_1_int = t_1 = radians(-90)\n",
    "d_2_int = d_2 = 0.5\n",
    "d_3_int = d_3 = 1\n",
    "t_4_int = t_4 = radians(-90)\n",
    "t_5_int = t_5 = radians(90)\n",
    "\n",
    "# Constant\n",
    "t_6 = radians(40)\n",
    "d_6 = .2\n",
    "\n",
    "#Arbitrary\n",
    "d_1 = 3\n",
    "threshold = 0.001\n"
   ]
  },
  {
   "cell_type": "markdown",
   "metadata": {},
   "source": [
    "Part a"
   ]
  },
  {
   "cell_type": "code",
   "execution_count": 278,
   "metadata": {},
   "outputs": [
    {
     "name": "stdout",
     "output_type": "stream",
     "text": [
      "success\n",
      "Final XYZ 1.2, 0.7999, 0.4995,\n",
      "Final thetas t_1_temp=2.267 t_4_temp=2.462 t_5_temp=1.542 d_2_temp=-2.626208724917287 d_3_temp=-1.4390893231625133\n",
      "num iter 104\n",
      "Change:  13.464280212649161\n"
     ]
    }
   ],
   "source": [
    "# Changing things\n",
    "x = (cos(t_1) * cos(t_4) * sin(t_5) * d_6) - (sin(t_1) * cos(t_5) * d_6) - (sin(t_1) * d_3)\n",
    "y = (sin(t_1) * cos(t_4) * sin(t_5) * d_6) + (cos(t_1) * cos(t_5) * d_6) + (cos(t_1) * d_3)\n",
    "z = (sin(t_4) * sin(t_5) * d_6) + d_1 + d_2\n",
    "\n",
    "def dist(x1, x2, y1, y2, z1, z2):\n",
    "    return sqrt((x2-x1)**2 + (y2-y1)**2 + (z2-z1)**2)\n",
    "\n",
    "n = 1\n",
    "while(n > 0):\n",
    "    \n",
    "    change = 0\n",
    "    \n",
    "    factor = dist(x, x_goal, y, y_goal, z, z_goal) * 2\n",
    "    t_1_diff = (random.random()-0.5) * factor\n",
    "    t_4_diff = (random.random()-0.5) * factor\n",
    "    t_5_diff = (random.random()-0.5) * factor\n",
    "    d_2_diff = (random.random()-0.5) * factor\n",
    "    d_3_diff = (random.random()-0.5) * factor\n",
    "\n",
    "    t_1_temp = t_1 - t_1_diff\n",
    "    t_4_temp = t_4 - t_4_diff\n",
    "    t_5_temp = t_5 - t_5_diff\n",
    "    d_2_temp = d_2 - d_2_diff\n",
    "    d_3_temp = d_3 - d_3_diff\n",
    "\n",
    "    x_tmp = (cos(t_1_temp) * cos(t_4_temp) * sin(t_5_temp) * d_6) - (sin(t_1_temp) * cos(t_5_temp) * d_6) - (sin(t_1_temp) * d_3_temp)\n",
    "    y_tmp = (sin(t_1_temp) * cos(t_4_temp) * sin(t_5_temp) * d_6) + (cos(t_1_temp) * cos(t_5_temp) * d_6) + (cos(t_1_temp) * d_3_temp)\n",
    "    z_tmp = (sin(t_4_temp) * sin(t_5_temp) * d_6) + d_1 + d_2_temp\n",
    "\n",
    "    if abs(x_tmp - x_goal) < threshold and abs(y_tmp - y_goal) < threshold and abs(z_tmp - z_goal) < threshold:\n",
    "        change = sum([abs(initial - temporary) for initial, temporary in zip((t_1_int, t_4_int, t_5_int, d_2_int, d_3_int), (t_1_temp, t_4_temp, t_5_temp, d_2_temp, d_3_temp))])\n",
    "        print(\"success\")\n",
    "        print(f\"Final XYZ {x_tmp:.4}, {y_tmp:.4}, {z_tmp:.4},\")\n",
    "        print(f\"Final thetas {t_1_temp=:.4} {t_4_temp=:.4} {t_5_temp=:.4} {d_2_temp=} {d_3_temp=}\")\n",
    "        print(\"num iter {}\".format(n))\n",
    "        print('Change: ', change)\n",
    "        break\n",
    "    \n",
    "    if dist(x_goal, x, y_goal, y, z_goal, z) < dist(x_goal, x_tmp, y_goal, y_tmp, z_goal, z_tmp):\n",
    "        pass\n",
    "    else:\n",
    "        t_1 = t_1_temp \n",
    "        t_4 = t_4_temp\n",
    "        t_5 = t_5_temp\n",
    "        d_2 = d_2_temp\n",
    "        d_3 = d_3_temp\n",
    "\n",
    "        x = x_tmp\n",
    "        y = y_tmp\n",
    "        z = z_tmp\n",
    "\n",
    "    n += 1"
   ]
  },
  {
   "cell_type": "markdown",
   "metadata": {},
   "source": [
    "Part b"
   ]
  },
  {
   "cell_type": "code",
   "execution_count": 279,
   "metadata": {},
   "outputs": [],
   "source": [
    "x_goal = 1.2\n",
    "y_goal = 0.8\n",
    "z_goal = 0.5\n",
    "\n",
    "t_1_int = t_1 = radians(0)\n",
    "d_2_int = d_2 = 0.2\n",
    "d_3_int = d_3 = .3\n",
    "t_4_int = t_4 = radians(-90)\n",
    "t_5_int = t_5 = radians(90)\n",
    "\n",
    "# Constant\n",
    "t_6 = radians(40)\n",
    "d_6 = .2\n",
    "\n",
    "#Arbitrary\n",
    "d_1 = 3\n",
    "threshold = 0.0001"
   ]
  },
  {
   "cell_type": "code",
   "execution_count": 280,
   "metadata": {},
   "outputs": [],
   "source": [
    "class NN(trch.nn.Module):\n",
    "    def __init__(self):\n",
    "        super(NN, self).__init__()\n",
    "        self.layer1 = trch.nn.Linear(8, 8)\n",
    "        self.layer2 = trch.nn.Linear(8, 5)\n",
    "    \n",
    "    def forward(self, input):\n",
    "        layer1_output = self.layer1(input)\n",
    "\n",
    "        layer1_relu = trch.nn.functional.relu(layer1_output)\n",
    "\n",
    "        output = self.layer2(layer1_relu)\n",
    "\n",
    "        return output"
   ]
  },
  {
   "cell_type": "code",
   "execution_count": 281,
   "metadata": {},
   "outputs": [],
   "source": [
    "class Agent(object):\n",
    "    def __init__(self):\n",
    "        self.device = trch.device(\"cuda:0\" if trch.cuda.is_available() else \"cpu\")\n",
    "        self.model = NN().to(self.device)\n",
    "        self.optimizer = trch.optim.Adam(self.model.parameters(), lr=3e-3)\n",
    "        self.loss_function = trch.nn.MSELoss()\n",
    "\n",
    "    def act(self, state):\n",
    "        \n",
    "        state = np.array(state, dtype=np.float64)\n",
    "        state = trch.from_numpy(state).unsqueeze(0).to(self.device)\n",
    "        movement: trch.Tensor = self.model(state.float()).cpu().tolist()\n",
    "        return movement\n"
   ]
  },
  {
   "cell_type": "code",
   "execution_count": 282,
   "metadata": {},
   "outputs": [],
   "source": [
    "def dist(x1, x2, y1, y2, z1, z2):\n",
    "    return sqrt((x2-x1)**2 + (y2-y1)**2 + (z2-z1)**2)"
   ]
  },
  {
   "cell_type": "code",
   "execution_count": 283,
   "metadata": {},
   "outputs": [],
   "source": [
    "\n",
    "def getPosition(positional_info):\n",
    "    t_1, d_2, d_3, t_4, t_5 = positional_info\n",
    "    \n",
    "    x = (cos(t_1) * cos(t_4) * sin(t_5) * d_6) - (sin(t_1) * cos(t_5) * d_6) - (sin(t_1) * d_3)\n",
    "    y = (sin(t_1) * cos(t_4) * sin(t_5) * d_6) + (cos(t_1) * cos(t_5) * d_6) + (cos(t_1) * d_3)\n",
    "    z = (sin(t_4) * sin(t_5) * d_6) + d_1 + d_2\n",
    "\n",
    "    return (x, y, z)\n",
    "\n",
    "start_positional_info = t_1, d_2, d_3, t_4, t_5\n",
    "\n",
    "start_x, start_y, start_z = getPosition(start_positional_info)\n",
    "\n",
    "def getReward(positional_info, steps):\n",
    "    \n",
    "    try:\n",
    "        x, y, z = getPosition(positional_info)\n",
    "    except ValueError:\n",
    "        return -1000, True\n",
    "\n",
    "    distance_to_start = dist(x, start_x, y, start_y, z, start_z)\n",
    "    distance_to_end = dist(x, x_goal, y, y_goal, z, z_goal)\n",
    "    reward = (1/distance_to_start) + (10/distance_to_end)\n",
    "    return (reward, True if distance_to_end < .01 else False)"
   ]
  },
  {
   "cell_type": "code",
   "execution_count": 284,
   "metadata": {},
   "outputs": [
    {
     "name": "stdout",
     "output_type": "stream",
     "text": [
      "i=50: total_reward=-0.999, steps=1001 \n",
      "i=100: total_reward=-0.999, steps=1001 \n",
      "i=150: total_reward=-0.999, steps=1001 \n",
      "i=200: total_reward=-0.999, steps=1001 \n",
      "i=250: total_reward=-0.999, steps=1001 \n",
      "i=300: total_reward=-0.999, steps=1001 \n",
      "i=350: total_reward=-0.999, steps=1001 \n",
      "i=400: total_reward=-0.999, steps=1001 \n",
      "i=450: total_reward=-0.999, steps=1001 \n",
      "i=500: total_reward=-0.999, steps=1001 \n",
      "i=550: total_reward=-0.999, steps=1001 \n",
      "i=600: total_reward=-0.999, steps=1001 \n",
      "i=650: total_reward=-0.999, steps=1001 \n",
      "i=700: total_reward=-0.999, steps=1001 \n",
      "i=750: total_reward=-0.999, steps=1001 \n",
      "i=800: total_reward=-0.999, steps=1001 \n",
      "i=850: total_reward=-0.999, steps=1001 \n",
      "i=900: total_reward=-0.999, steps=1001 \n",
      "i=950: total_reward=-0.999, steps=1001 \n",
      "i=1000: total_reward=-0.999, steps=1001 \n"
     ]
    }
   ],
   "source": [
    "agent = Agent()\n",
    "\n",
    "for i in range(1, 1001):\n",
    "    done = False\n",
    "    total_reward = 0\n",
    "    steps = 0\n",
    "\n",
    "    while not done:\n",
    "        steps += 1\n",
    "\n",
    "        current_positional_info = t_1, d_2, d_3, t_4, t_5\n",
    "        x_current, y_current, z_current = getPosition(current_positional_info)\n",
    "        state = np.array((t_1, d_2, d_3, t_4, t_5, x_current, y_current, z_current)) \n",
    "        t_1_change, d_2_change, d_3_change, t_4_change, t_5_change = agent.act(state)[0]\n",
    "\n",
    "        t_1 += t_1_change\n",
    "        d_2 += d_2_change\n",
    "        d_3 += d_3_change\n",
    "        t_4 += t_4_change\n",
    "        t_5 += t_5_change\n",
    "\n",
    "        current_positional_info = t_1, d_2, d_3, t_4, t_5\n",
    "\n",
    "        reward, done = getReward(current_positional_info, steps)\n",
    "        if (steps > 1000):\n",
    "            total_reward = -1000\n",
    "            break\n",
    "\n",
    "        total_reward += reward\n",
    "\n",
    "    total_reward /= steps\n",
    "\n",
    "    loss = agent.loss_function()\n",
    "\n",
    "    agent.optimizer.zero_grad()\n",
    "    loss.backward()\n",
    "    agent.optimizer.step()\n",
    "\n",
    "    if (i % 50 == 0):\n",
    "        print(f\"{i=}: {total_reward=:<5.3}, {steps=:<5}\")\n",
    "\n",
    "\n",
    "\n",
    "\n",
    "\n",
    "\n"
   ]
  }
 ],
 "metadata": {
  "kernelspec": {
   "display_name": "Python 3.10.7 64-bit",
   "language": "python",
   "name": "python3"
  },
  "language_info": {
   "codemirror_mode": {
    "name": "ipython",
    "version": 3
   },
   "file_extension": ".py",
   "mimetype": "text/x-python",
   "name": "python",
   "nbconvert_exporter": "python",
   "pygments_lexer": "ipython3",
   "version": "3.10.7"
  },
  "orig_nbformat": 4,
  "vscode": {
   "interpreter": {
    "hash": "c5252f41cda903ea636bae5f212409c6b52ab532911ebf5c960538b6c783ba1c"
   }
  }
 },
 "nbformat": 4,
 "nbformat_minor": 2
}
