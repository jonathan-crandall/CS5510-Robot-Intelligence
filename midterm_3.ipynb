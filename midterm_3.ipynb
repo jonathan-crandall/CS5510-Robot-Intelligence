{
 "cells": [
  {
   "cell_type": "code",
   "execution_count": 2,
   "metadata": {},
   "outputs": [],
   "source": [
    "from math import radians, sqrt, sin, cos\n",
    "import random\n",
    "\n",
    "x_goal = 1.2\n",
    "y_goal = 0.8\n",
    "z_goal = 0.5\n",
    "\n",
    "t_1_int = t_1 = radians(-90)\n",
    "d_2_int = d_2 = 0.5\n",
    "d_3_int = d_3 = 1\n",
    "t_4_int = t_4 = radians(-90)\n",
    "t_5_int = t_5 = radians(90)\n",
    "\n",
    "# Constant\n",
    "t_6 = radians(40)\n",
    "d_6 = .2\n",
    "\n",
    "#Arbitrary\n",
    "d_1 = 3\n",
    "threshold = 0.001\n"
   ]
  },
  {
   "cell_type": "markdown",
   "metadata": {},
   "source": [
    "Part a"
   ]
  },
  {
   "cell_type": "code",
   "execution_count": 41,
   "metadata": {},
   "outputs": [
    {
     "name": "stdout",
     "output_type": "stream",
     "text": [
      "success\n",
      "Final XYZ 1.2, 0.7996, 0.5009,\n",
      "Final thetas t_1_temp=-1.02 t_4_temp=-3.127 t_5_temp=2.871 d_2_temp=-2.498321084783556 d_3_temp=1.6334417353582036\n",
      "num iter 93\n",
      "Change:  7.038980908642708\n"
     ]
    }
   ],
   "source": [
    "# Changing things\n",
    "x = (cos(t_1) * cos(t_4) * sin(t_5) * d_6) - (sin(t_1) * cos(t_5) * d_6) - (sin(t_1) * d_3)\n",
    "y = (sin(t_1) * cos(t_4) * sin(t_5) * d_6) + (cos(t_1) * cos(t_5) * d_6) + (cos(t_1) * d_3)\n",
    "z = (sin(t_4) * sin(t_5) * d_6) + d_1 + d_2\n",
    "\n",
    "def dist(x1, x2, y1, y2, z1, z2):\n",
    "    return sqrt((x2-x1)**2 + (y2-y1)**2 + (z2-z1)**2)\n",
    "\n",
    "n = 1\n",
    "while(n > 0):\n",
    "    \n",
    "    change = 0\n",
    "    \n",
    "    factor = dist(x, x_goal, y, y_goal, z, z_goal) * 2\n",
    "    t_1_diff = (random.random()-0.5) * factor\n",
    "    t_4_diff = (random.random()-0.5) * factor\n",
    "    t_5_diff = (random.random()-0.5) * factor\n",
    "    d_2_diff = (random.random()-0.5) * factor\n",
    "    d_3_diff = (random.random()-0.5) * factor\n",
    "\n",
    "    t_1_temp = t_1 - t_1_diff\n",
    "    t_4_temp = t_4 - t_4_diff\n",
    "    t_5_temp = t_5 - t_5_diff\n",
    "    d_2_temp = d_2 - d_2_diff\n",
    "    d_3_temp = d_3 - d_3_diff\n",
    "\n",
    "    x_tmp = (cos(t_1_temp) * cos(t_4_temp) * sin(t_5_temp) * d_6) - (sin(t_1_temp) * cos(t_5_temp) * d_6) - (sin(t_1_temp) * d_3_temp)\n",
    "    y_tmp = (sin(t_1_temp) * cos(t_4_temp) * sin(t_5_temp) * d_6) + (cos(t_1_temp) * cos(t_5_temp) * d_6) + (cos(t_1_temp) * d_3_temp)\n",
    "    z_tmp = (sin(t_4_temp) * sin(t_5_temp) * d_6) + d_1 + d_2_temp\n",
    "\n",
    "    if abs(x_tmp - x_goal) < threshold and abs(y_tmp - y_goal) < threshold and abs(z_tmp - z_goal) < threshold:\n",
    "        change = sum([abs(initial - temporary) for initial, temporary in zip((t_1_int, t_4_int, t_5_int, d_2_int, d_3_int), (t_1_temp, t_4_temp, t_5_temp, d_2_temp, d_3_temp))])\n",
    "        print(\"success\")\n",
    "        print(f\"Final XYZ {x_tmp:.4}, {y_tmp:.4}, {z_tmp:.4},\")\n",
    "        print(f\"Final thetas {t_1_temp=:.4} {t_4_temp=:.4} {t_5_temp=:.4} {d_2_temp=} {d_3_temp=}\")\n",
    "        print(\"num iter {}\".format(n))\n",
    "        print('Change: ', change)\n",
    "        break\n",
    "    \n",
    "    if dist(x_goal, x, y_goal, y, z_goal, z) < dist(x_goal, x_tmp, y_goal, y_tmp, z_goal, z_tmp):\n",
    "        pass\n",
    "    else:\n",
    "        t_1 = t_1_temp \n",
    "        t_4 = t_4_temp\n",
    "        t_5 = t_5_temp\n",
    "        d_2 = d_2_temp\n",
    "        d_3 = d_3_temp\n",
    "\n",
    "        x = x_tmp\n",
    "        y = y_tmp\n",
    "        z = z_tmp\n",
    "\n",
    "    n += 1"
   ]
  },
  {
   "cell_type": "markdown",
   "metadata": {},
   "source": [
    "Part b"
   ]
  },
  {
   "cell_type": "code",
   "execution_count": 3,
   "metadata": {},
   "outputs": [],
   "source": [
    "x_goal = 1.2\n",
    "y_goal = 0.8\n",
    "z_goal = 0.5\n",
    "\n",
    "t_1_int = t_1 = radians(0)\n",
    "d_2_int = d_2 = 0.2\n",
    "d_3_int = d_3 = .3\n",
    "t_4_int = t_4 = radians(-90)\n",
    "t_5_int = t_5 = radians(90)\n",
    "\n",
    "# Constant\n",
    "t_6 = radians(40)\n",
    "d_6 = .2\n",
    "\n",
    "#Arbitrary\n",
    "d_1 = 3\n",
    "threshold = 0.0001"
   ]
  },
  {
   "cell_type": "code",
   "execution_count": 101,
   "metadata": {},
   "outputs": [
    {
     "ename": "TypeError",
     "evalue": "'float' object cannot be interpreted as an integer",
     "output_type": "error",
     "traceback": [
      "\u001b[1;31m---------------------------------------------------------------------------\u001b[0m",
      "\u001b[1;31mTypeError\u001b[0m                                 Traceback (most recent call last)",
      "Cell \u001b[1;32mIn [101], line 20\u001b[0m\n\u001b[0;32m     17\u001b[0m factor \u001b[38;5;241m=\u001b[39m dist(x, x_goal, y, y_goal, z, z_goal) \u001b[38;5;241m*\u001b[39m \u001b[38;5;241m2\u001b[39m\n\u001b[0;32m     19\u001b[0m \u001b[38;5;66;03m# Please dont look to close at this code it needs to be super refactored\u001b[39;00m\n\u001b[1;32m---> 20\u001b[0m \u001b[38;5;28;01mfor\u001b[39;00m i \u001b[38;5;129;01min\u001b[39;00m \u001b[38;5;28;43mrange\u001b[39;49m\u001b[43m(\u001b[49m\u001b[38;5;241;43m10\u001b[39;49m\u001b[43m \u001b[49m\u001b[38;5;241;43m*\u001b[39;49m\u001b[43m \u001b[49m\u001b[43mfactor\u001b[49m\u001b[43m)\u001b[49m:\n\u001b[0;32m     21\u001b[0m     t_1_diff \u001b[38;5;241m=\u001b[39m (random\u001b[38;5;241m.\u001b[39mrandom()\u001b[38;5;241m-\u001b[39m\u001b[38;5;241m0.5\u001b[39m)\u001b[38;5;241m*\u001b[39m factor\n\u001b[0;32m     22\u001b[0m     t_4_diff \u001b[38;5;241m=\u001b[39m (random\u001b[38;5;241m.\u001b[39mrandom()\u001b[38;5;241m-\u001b[39m\u001b[38;5;241m0.5\u001b[39m)\u001b[38;5;241m*\u001b[39m factor\n",
      "\u001b[1;31mTypeError\u001b[0m: 'float' object cannot be interpreted as an integer"
     ]
    }
   ],
   "source": [
    "# Changing things\n",
    "from math import inf\n",
    "\n",
    "x = (cos(t_1) * cos(t_4) * sin(t_5) * d_6) - (sin(t_1) * cos(t_5) * d_6) - (sin(t_1) * d_3)\n",
    "y = (sin(t_1) * cos(t_4) * sin(t_5) * d_6) + (cos(t_1) * cos(t_5) * d_6) + (cos(t_1) * d_3)\n",
    "z = (sin(t_4) * sin(t_5) * d_6) + d_1 + d_2\n",
    "\n",
    "def dist(x1, x2, y1, y2, z1, z2):\n",
    "    return sqrt((x2-x1)**2 + (y2-y1)**2 + (z2-z1)**2)\n",
    "\n",
    "n = 1\n",
    "while(n > 0):\n",
    "    change_to_beat = inf\n",
    "    solution = tuple()\n",
    "    factor = dist(x, x_goal, y, y_goal, z, z_goal) * 2\n",
    "\n",
    "    # Please dont look to close at this code it needs to be super refactored\n",
    "    for i in range(int(10 * factor)):\n",
    "    \n",
    "\n",
    "        t_1_tmp = t_1 - (random.random()-0.5)*  factor\n",
    "        t_4_tmp = t_4 - (random.random()-0.5)* factor\n",
    "        t_5_tmp = t_5 - (random.random()-0.5)* factor\n",
    "        d_2_tmp = d_2 - (random.random()-0.5)* factor\n",
    "        d_3_tmp = d_3 - (random.random()-0.5)* factor\n",
    "\n",
    "        x_tmp = (cos(t_1_tmp) * cos(t_4_tmp) * sin(t_5_tmp) * d_6) - (sin(t_1_tmp) * cos(t_5_tmp) * d_6) - (sin(t_1_tmp) * d_3_tmp)\n",
    "        y_tmp = (sin(t_1_tmp) * cos(t_4_tmp) * sin(t_5_tmp) * d_6) + (cos(t_1_tmp) * cos(t_5_tmp) * d_6) + (cos(t_1_tmp) * d_3_tmp)\n",
    "        z_tmp = (sin(t_4_tmp) * sin(t_5_tmp) * d_6) + d_1 + d_2_tmp\n",
    "        \n",
    "        change = sum(\n",
    "            [abs(t - i) for i, t in zip((t_1_int, t_4_int, t_5_int, d_2_int, d_3_int), (t_1_tmp, t_4_tmp, t_5_tmp, d_2_tmp, d_3_tmp))]\n",
    "            )\n",
    "        \n",
    "        if dist(x_goal, x, y_goal, y, z_goal, z) > dist(x_goal, x_tmp, y_goal, y_tmp, z_goal, z_tmp):\n",
    "            \n",
    "            if change < change_to_beat:\n",
    "                print(\"Better solution found: \", n)\n",
    "                solution = (t_1_tmp, t_4_tmp, t_5_tmp, d_2_tmp, d_3_tmp, x_tmp, y_tmp, z_tmp)\n",
    "\n",
    "    print(solution[-3:], change, end=\"\\r\")\n",
    "    \n",
    "    if not solution:\n",
    "        print(f\"No solution found for iter {n}\")\n",
    "        continue\n",
    "    \n",
    "    t_1_tmp, t_4_tmp, t_5_tmp, d_2_tmp, d_3_tmp, x_tmp, y_tmp, z_tmp =  solution\n",
    "\n",
    "    if abs(x_tmp - x_goal) < threshold and abs(y_tmp - y_goal) < threshold and abs(z_tmp - z_goal) < threshold:\n",
    "        print(\"success\\n\")\n",
    "        print(f\"Final XYZ {x_tmp:.4}, {y_tmp:.4}, {z_tmp:.4}\")\n",
    "        print(f\"Final thetas {t_1_tmp=:.4} {t_4_tmp=:.4} {t_5_tmp=:.4} {d_2_tmp=} {d_3_tmp=}\")\n",
    "        change = sum([abs(initial - temporary) for initial, temporary in zip((t_1_int, t_4_int, t_5_int, d_2_int, d_3_int), (t_1_tmp, t_4_tmp, t_5_tmp, d_2_tmp, d_3_tmp))])\n",
    "        print(f\"Change: {change}\")\n",
    "        print(\"num iter {}\".format(n))\n",
    "        break\n",
    "    \n",
    "\n",
    "    if dist(x_goal, x, y_goal, y, z_goal, z) < dist(x_goal, x_tmp, y_goal, y_tmp, z_goal, z_tmp):\n",
    "        pass\n",
    "    else:\n",
    "        t_1 = t_1_tmp \n",
    "        t_4 = t_4_tmp\n",
    "        t_5 = t_5_tmp\n",
    "        d_2 = d_2_tmp\n",
    "        d_3 = d_3_tmp\n",
    "\n",
    "        x = x_tmp\n",
    "        y = y_tmp\n",
    "        z = z_tmp\n",
    "\n",
    "    n += 1"
   ]
  }
 ],
 "metadata": {
  "kernelspec": {
   "display_name": "Python 3.10.7 64-bit",
   "language": "python",
   "name": "python3"
  },
  "language_info": {
   "codemirror_mode": {
    "name": "ipython",
    "version": 3
   },
   "file_extension": ".py",
   "mimetype": "text/x-python",
   "name": "python",
   "nbconvert_exporter": "python",
   "pygments_lexer": "ipython3",
   "version": "3.10.7"
  },
  "orig_nbformat": 4,
  "vscode": {
   "interpreter": {
    "hash": "699145fa2221c935d0163b1c2c29147f64e95551f056f27c7ae59cc40988fe16"
   }
  }
 },
 "nbformat": 4,
 "nbformat_minor": 2
}
