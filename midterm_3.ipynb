{
 "cells": [
  {
   "cell_type": "code",
   "execution_count": null,
   "metadata": {},
   "outputs": [],
   "source": [
    "from math import radians\n",
    "n = 1000\n",
    "\n",
    "x_goal = 1.2\n",
    "y_goal = 0.8\n",
    "z_goal = 0.5\n",
    "\n",
    "t_1 = radians(-90)\n",
    "d_2 = 0.5\n",
    "d_3 = 1\n",
    "t_4 = radians(-90)\n",
    "t_5 = radians(90)\n",
    "t_6 = radians(40 )\n"
   ]
  },
  {
   "cell_type": "code",
   "execution_count": null,
   "metadata": {},
   "outputs": [],
   "source": []
  }
 ],
 "metadata": {
  "kernelspec": {
   "display_name": "Python 3.10.7 64-bit (microsoft store)",
   "language": "python",
   "name": "python3"
  },
  "language_info": {
   "name": "python",
   "version": "3.10.7"
  },
  "orig_nbformat": 4,
  "vscode": {
   "interpreter": {
    "hash": "0607fbd3cd57533319508c8a7f698db08f8e9b08938f63a4fe6a1b35ca7dc87f"
   }
  }
 },
 "nbformat": 4,
 "nbformat_minor": 2
}
