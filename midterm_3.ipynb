{
 "cells": [
  {
   "cell_type": "code",
   "execution_count": 2,
   "metadata": {},
   "outputs": [],
   "source": [
    "from math import radians, sqrt, sin, cos\n",
    "import random\n",
    "\n",
    "x_goal = 1.2\n",
    "y_goal = 0.8\n",
    "z_goal = 0.5\n",
    "\n",
    "t_1_int = t_1 = radians(-90)\n",
    "d_2_int = d_2 = 0.5\n",
    "d_3 = 1\n",
    "t_4 = radians(-90)\n",
    "t_5 = radians(90)\n",
    "\n",
    "# Constant\n",
    "t_6 = radians(40)\n",
    "d_6 = .2\n",
    "\n",
    "#Arbitrary\n",
    "d_1 = 3\n",
    "threshold = 0.001\n"
   ]
  },
  {
   "cell_type": "markdown",
   "metadata": {},
   "source": [
    "Part a"
   ]
  },
  {
   "cell_type": "code",
   "execution_count": 3,
   "metadata": {},
   "outputs": [
    {
     "name": "stdout",
     "output_type": "stream",
     "text": [
      "success\n",
      "Final XYZ 1.2, 0.8008, 0.5009,\n",
      "Final thetas t_1_temp=-4.126 t_4_temp=-4.731 t_5_temp=1.756 d_2_temp=-2.695608065661973 d_3_temp=-1.4056845050060924\n",
      "num iter 180\n"
     ]
    }
   ],
   "source": [
    "# Changing things\n",
    "x = (cos(t_1) * cos(t_4) * sin(t_5) * d_6) - (sin(t_1) * cos(t_5) * d_6) - (sin(t_1) * d_3)\n",
    "y = (sin(t_1) * cos(t_4) * sin(t_5) * d_6) + (cos(t_1) * cos(t_5) * d_6) + (cos(t_1) * d_3)\n",
    "z = (sin(t_4) * sin(t_5) * d_6) + d_1 + d_2\n",
    "\n",
    "def dist(x1, x2, y1, y2, z1, z2):\n",
    "    return sqrt((x2-x1)**2 + (y2-y1)**2 + (z2-z1)**2)\n",
    "\n",
    "n = 1\n",
    "while(n > 0):\n",
    "    \n",
    "    change = 0\n",
    "    \n",
    "    factor = dist(x, x_goal, y, y_goal, z, z_goal) * 2\n",
    "    t_1_diff = (random.random()-0.5)* factor\n",
    "    t_4_diff = (random.random()-0.5)* factor\n",
    "    t_5_diff = (random.random()-0.5)* factor\n",
    "    d_2_diff = (random.random()-0.5)* factor\n",
    "    d_3_diff = (random.random()-0.5)* factor\n",
    "\n",
    "    t_1_temp = t_1 - t_1_diff\n",
    "    t_4_temp = t_4 - t_4_diff\n",
    "    t_5_temp = t_5 - t_5_diff\n",
    "    d_2_temp = d_2 - d_2_diff\n",
    "    d_3_temp = d_3 - d_3_diff\n",
    "\n",
    "    x_tmp = (cos(t_1_temp) * cos(t_4_temp) * sin(t_5_temp) * d_6) - (sin(t_1_temp) * cos(t_5_temp) * d_6) - (sin(t_1_temp) * d_3_temp)\n",
    "    y_tmp = (sin(t_1_temp) * cos(t_4_temp) * sin(t_5_temp) * d_6) + (cos(t_1_temp) * cos(t_5_temp) * d_6) + (cos(t_1_temp) * d_3_temp)\n",
    "    z_tmp = (sin(t_4_temp) * sin(t_5_temp) * d_6) + d_1 + d_2_temp\n",
    "\n",
    "    if abs(x_tmp - x_goal) < threshold and abs(y_tmp - y_goal) < threshold and abs(z_tmp - z_goal) < threshold:\n",
    "        print(\"success\")\n",
    "        print(f\"Final XYZ {x_tmp:.4}, {y_tmp:.4}, {z_tmp:.4},\")\n",
    "        print(f\"Final thetas {t_1_temp=:.4} {t_4_temp=:.4} {t_5_temp=:.4} {d_2_temp=} {d_3_temp=}\")\n",
    "        print(\"num iter {}\".format(n))\n",
    "        break\n",
    "    \n",
    "    if dist(x_goal, x, y_goal, y, z_goal, z) < dist(x_goal, x_tmp, y_goal, y_tmp, z_goal, z_tmp):\n",
    "        pass\n",
    "    else:\n",
    "        t_1 = t_1_temp \n",
    "        t_4 = t_4_temp\n",
    "        t_5 = t_5_temp\n",
    "        d_2 = d_2_temp\n",
    "        d_3 = d_3_temp\n",
    "\n",
    "        x = x_tmp\n",
    "        y = y_tmp\n",
    "        z = z_tmp\n",
    "\n",
    "    n += 1"
   ]
  },
  {
   "cell_type": "markdown",
   "metadata": {},
   "source": [
    "Part b"
   ]
  },
  {
   "cell_type": "code",
   "execution_count": 4,
   "metadata": {},
   "outputs": [],
   "source": [
    "x_goal = 1.2\n",
    "y_goal = 0.8\n",
    "z_goal = 0.5\n",
    "\n",
    "t_1_int = t_1 = radians(0)\n",
    "d_2_int = d_2 = 0.2\n",
    "d_3_int = d_3 = .3\n",
    "t_4_int = t_4 = radians(-90)\n",
    "t_5_int = t_5 = radians(90)\n",
    "\n",
    "# Constant\n",
    "t_6 = radians(40)\n",
    "d_6 = .2\n",
    "\n",
    "#Arbitrary\n",
    "d_1 = 3\n",
    "threshold = 0.001"
   ]
  },
  {
   "cell_type": "code",
   "execution_count": 2,
   "metadata": {},
   "outputs": [
    {
     "ename": "NameError",
     "evalue": "name 'cos' is not defined",
     "output_type": "error",
     "traceback": [
      "\u001b[1;31m---------------------------------------------------------------------------\u001b[0m",
      "\u001b[1;31mNameError\u001b[0m                                 Traceback (most recent call last)",
      "Cell \u001b[1;32mIn [2], line 6\u001b[0m\n\u001b[0;32m      2\u001b[0m \u001b[39mfrom\u001b[39;00m \u001b[39mmath\u001b[39;00m \u001b[39mimport\u001b[39;00m inf\n\u001b[0;32m      3\u001b[0m \u001b[39mfrom\u001b[39;00m \u001b[39mtabnanny\u001b[39;00m \u001b[39mimport\u001b[39;00m check\n\u001b[1;32m----> 6\u001b[0m x \u001b[39m=\u001b[39m (cos(t_1) \u001b[39m*\u001b[39m cos(t_4) \u001b[39m*\u001b[39m sin(t_5) \u001b[39m*\u001b[39m d_6) \u001b[39m-\u001b[39m (sin(t_1) \u001b[39m*\u001b[39m cos(t_5) \u001b[39m*\u001b[39m d_6) \u001b[39m-\u001b[39m (sin(t_1) \u001b[39m*\u001b[39m d_3)\n\u001b[0;32m      7\u001b[0m y \u001b[39m=\u001b[39m (sin(t_1) \u001b[39m*\u001b[39m cos(t_4) \u001b[39m*\u001b[39m sin(t_5) \u001b[39m*\u001b[39m d_6) \u001b[39m+\u001b[39m (cos(t_1) \u001b[39m*\u001b[39m cos(t_5) \u001b[39m*\u001b[39m d_6) \u001b[39m+\u001b[39m (cos(t_1) \u001b[39m*\u001b[39m d_3)\n\u001b[0;32m      8\u001b[0m z \u001b[39m=\u001b[39m (sin(t_4) \u001b[39m*\u001b[39m sin(t_5) \u001b[39m*\u001b[39m d_6) \u001b[39m+\u001b[39m d_1 \u001b[39m+\u001b[39m d_2\n",
      "\u001b[1;31mNameError\u001b[0m: name 'cos' is not defined"
     ]
    }
   ],
   "source": [
    "# Changing things\n",
    "from math import inf\n",
    "from tabnanny import check\n",
    "\n",
    "\n",
    "x = (cos(t_1) * cos(t_4) * sin(t_5) * d_6) - (sin(t_1) * cos(t_5) * d_6) - (sin(t_1) * d_3)\n",
    "y = (sin(t_1) * cos(t_4) * sin(t_5) * d_6) + (cos(t_1) * cos(t_5) * d_6) + (cos(t_1) * d_3)\n",
    "z = (sin(t_4) * sin(t_5) * d_6) + d_1 + d_2\n",
    "\n",
    "def dist(x1, x2, y1, y2, z1, z2):\n",
    "    return sqrt((x2-x1)**2 + (y2-y1)**2 + (z2-z1)**2)\n",
    "\n",
    "n = 1\n",
    "while(n > 0):\n",
    "    change_to_beat = inf\n",
    "    solution: tuple \n",
    "    factor = dist(x, x_goal, y, y_goal, z, z_goal) * 2\n",
    "\n",
    "    for i in range(10):\n",
    "        t_1_diff = (random.random()-0.5)* factor\n",
    "        t_4_diff = (random.random()-0.5)* factor\n",
    "        t_5_diff = (random.random()-0.5)* factor\n",
    "        d_2_diff = (random.random()-0.5)* factor\n",
    "        d_3_diff = (random.random()-0.5)* factor\n",
    "\n",
    "        t_1_temp = t_1 - t_1_diff\n",
    "        t_4_temp = t_4 - t_4_diff\n",
    "        t_5_temp = t_5 - t_5_diff\n",
    "        d_2_temp = d_2 - d_2_diff\n",
    "        d_3_temp = d_3 - d_3_diff\n",
    "\n",
    "        x_tmp = (cos(t_1_temp) * cos(t_4_temp) * sin(t_5_temp) * d_6) - (sin(t_1_temp) * cos(t_5_temp) * d_6) - (sin(t_1_temp) * d_3_temp)\n",
    "        y_tmp = (sin(t_1_temp) * cos(t_4_temp) * sin(t_5_temp) * d_6) + (cos(t_1_temp) * cos(t_5_temp) * d_6) + (cos(t_1_temp) * d_3_temp)\n",
    "        z_tmp = (sin(t_4_temp) * sin(t_5_temp) * d_6) + d_1 + d_2_temp\n",
    "        change = sum([abs(initial - temporary) for initial, temporary in zip((t_1_int, t_4_int, t_5_int, d_2_int, d_3_int), (t_1_temp, t_4_temp, t_5_temp, d_2_temp, d_3_temp))])\n",
    "        \n",
    "        if dist(x_goal, x, y_goal, y, z_goal, z) > dist(x_goal, x_tmp, y_goal, y_tmp, z_goal, z_tmp):\n",
    "            if change < change_to_beat:\n",
    "                solution = (t_1_temp, t_4_temp, t_5_temp, d_2_temp, d_3_temp, x_tmp, y_tmp, z_tmp)\n",
    "        # keep best guess\n",
    "\n",
    "    print(solution[-3:], change, end=\"/r\")\n",
    "    t_1, t_4, t_5, d_2, d_3,  x_tmp, y_tmp, z_tmp= solution\n",
    "\n",
    "    if abs(x_tmp - x_goal) < threshold and abs(y_tmp - y_goal) < threshold and abs(z_tmp - z_goal) < threshold:\n",
    "        print(\"success\")\n",
    "        print(f\"Final XYZ {x_tmp:.4}, {y_tmp:.4}, {z_tmp:.4},\")\n",
    "        print(f\"Final thetas {t_1_temp=:.4} {t_4_temp=:.4} {t_5_temp=:.4} {d_2_temp=} {d_3_temp=}\")\n",
    "        print(\"num iter {}\".format(n))\n",
    "        break\n",
    "    \n",
    "    # if dist(x_goal, x, y_goal, y, z_goal, z) < dist(x_goal, x_tmp, y_goal, y_tmp, z_goal, z_tmp):\n",
    "    #     pass\n",
    "\n",
    "    if dist(x_goal, x, y_goal, y, z_goal, z) < dist(x_goal, x_tmp, y_goal, y_tmp, z_goal, z_tmp):\n",
    "        pass\n",
    "    else:\n",
    "        t_1 = t_1_temp \n",
    "        t_4 = t_4_temp\n",
    "        t_5 = t_5_temp\n",
    "        d_2 = d_2_temp\n",
    "        d_3 = d_3_temp\n",
    "\n",
    "        x = x_tmp\n",
    "        y = y_tmp\n",
    "        z = z_tmp\n",
    "\n",
    "    n += 1"
   ]
  },
  {
   "cell_type": "code",
   "execution_count": null,
   "metadata": {},
   "outputs": [],
   "source": []
  }
 ],
 "metadata": {
  "kernelspec": {
   "display_name": "Python 3.10.7 64-bit",
   "language": "python",
   "name": "python3"
  },
  "language_info": {
   "codemirror_mode": {
    "name": "ipython",
    "version": 3
   },
   "file_extension": ".py",
   "mimetype": "text/x-python",
   "name": "python",
   "nbconvert_exporter": "python",
   "pygments_lexer": "ipython3",
   "version": "3.10.7"
  },
  "orig_nbformat": 4,
  "vscode": {
   "interpreter": {
    "hash": "c5252f41cda903ea636bae5f212409c6b52ab532911ebf5c960538b6c783ba1c"
   }
  }
 },
 "nbformat": 4,
 "nbformat_minor": 2
}
