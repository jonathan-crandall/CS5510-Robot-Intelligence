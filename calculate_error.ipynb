{
 "cells": [
  {
   "cell_type": "code",
   "execution_count": 66,
   "metadata": {},
   "outputs": [],
   "source": [
    "from math import sin, cos, radians, pi, sqrt, degrees\n",
    "\n",
    "class SkidRobot:\n",
    "    def __init__(self, length, width, x=0, y=0) -> None:\n",
    "        \"\"\"Creates a robot\n",
    "\n",
    "        Args:\n",
    "            length (_type_): Uses Meters\n",
    "            width (_type_): Uses Meters\n",
    "        \"\"\"\n",
    "        self.length = length\n",
    "        self.width = width\n",
    "        self.x = x\n",
    "        self.y = y\n",
    "        self.theta = 0\n",
    "    \n",
    "    def move(self, velocity_left, velocity_right, dt=0.1) -> None:\n",
    "        self.x -= (.5 * (velocity_left + velocity_right)) * sin(radians(self.theta)) * dt\n",
    "        self.y += (.5 * (velocity_left + velocity_right)) * cos(radians(self.theta)) * dt\n",
    "        self.theta += (1 / self.width) * (velocity_right - velocity_left) * dt\n",
    "        \n",
    "    def get_coords(self) -> \"tuple[float, float]\":\n",
    "        return (self.x, self.y)\n",
    "    \n",
    "    def move_for_duration(self, duration, velocity_left, velocity_right) -> \"tuple[list, list]\":\n",
    "        path_x = []\n",
    "        path_y = []\n",
    "        \n",
    "        # put loop in terms of dt = 0.1\n",
    "        current_time = 0\n",
    "        while (current_time < duration ):\n",
    "            path_x.append(self.x)\n",
    "            path_y.append(self.y)\n",
    "            self.move(velocity_left, velocity_right)\n",
    "            current_time += .1\n",
    "\n",
    "        # Store final point\n",
    "        path_x.append(self.x)\n",
    "        path_y.append(self.y)\n",
    "        return path_x, path_y\n",
    "\n",
    "    def get_bounds(self) -> \"tuple[float, float]\":\n",
    "        return (self.width, self.length)\n",
    "    \n",
    "    def get_r(self, vl, vr):\n",
    "        return (self.width / 2) * ((vr + vl) / (vr - vl))\n",
    "    \n",
    "    def calculate_error_move(self, vl, vr, dt=0.1):\n",
    "        r = self.get_r(vl, vr)\n",
    "        \n",
    "        circumference = 2 * r * pi\n",
    "        \n",
    "        # Perform Move\n",
    "        self.move(vl, vr, dt)\n",
    "        \n",
    "        # calculate theoretical position\n",
    "        t_x, t_y = (r * sin(radians(self.theta)), r * -cos(radians(self.theta)))\n",
    "        t_theta = (sqrt(t_x ** 2 + t_y ** 2) / circumference) * 360\n",
    "        \n",
    "        # Percent error calculation\n",
    "        p_x = abs(1 - (abs(self.x - t_x) / abs(t_x))) * 100\n",
    "        p_y = abs(1 - (abs(self.y - t_y) / abs(t_y))) * 100\n",
    "        p_theta = abs(1 - (abs(self.theta - t_theta) / abs(t_theta))) * 100\n",
    "        \n",
    "        return [(p_x, p_y, p_theta), (t_x, t_y, t_theta), (self.x, self.y, degrees(self.theta))]"
   ]
  },
  {
   "cell_type": "code",
   "execution_count": 67,
   "metadata": {},
   "outputs": [
    {
     "data": {
      "text/plain": [
       "[(0.0, 0.9998476719560925, 0.01745329251994332),\n",
       " (0.026178609655925267, 1.499771542734587, -57.29577951308234),\n",
       " (0.0, 1.5, -57.29577951308232)]"
      ]
     },
     "execution_count": 67,
     "metadata": {},
     "output_type": "execute_result"
    }
   ],
   "source": [
    "r = SkidRobot(1, 1)\n",
    "r.calculate_error_move(2, 1, 1)"
   ]
  }
 ],
 "metadata": {
  "kernelspec": {
   "display_name": "Python 3.10.6 64-bit",
   "language": "python",
   "name": "python3"
  },
  "language_info": {
   "codemirror_mode": {
    "name": "ipython",
    "version": 3
   },
   "file_extension": ".py",
   "mimetype": "text/x-python",
   "name": "python",
   "nbconvert_exporter": "python",
   "pygments_lexer": "ipython3",
   "version": "3.10.7"
  },
  "orig_nbformat": 4,
  "vscode": {
   "interpreter": {
    "hash": "699145fa2221c935d0163b1c2c29147f64e95551f056f27c7ae59cc40988fe16"
   }
  }
 },
 "nbformat": 4,
 "nbformat_minor": 2
}
