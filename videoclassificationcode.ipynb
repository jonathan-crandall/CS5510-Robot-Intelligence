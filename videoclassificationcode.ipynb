{
 "cells": [
  {
   "cell_type": "code",
   "execution_count": null,
   "metadata": {},
   "outputs": [],
   "source": [
    "import cv2\n",
    "import torch\n",
    "\n",
    "model = torch.hub.load('ultralytics/yolov5', 'custom', path='yolonetwork.pt')\n",
    "\n",
    "# results = model(\"test/images/20221121_125300_jpg.rf.fe2de4549f3cc5f3e56fc933ec8d93c9.jpg\")\n",
    "\n",
    "# results.print()  \n",
    "# results.show()\n",
    "\n",
    "# print(results.pandas().xyxy)\n",
    " \n",
    "# Opens the inbuilt camera of laptop to capture video.\n",
    "videoFeed = cv2.VideoCapture(0)\n",
    "i = 0\n",
    " \n",
    "while(videoFeed.isOpened()):\n",
    "    videoFeed.set(cv2.CAP_PROP_POS_MSEC,(i*250))\n",
    "    ret, frame = videoFeed.read()\n",
    "     \n",
    "    if ret == False:\n",
    "        break\n",
    "     \n",
    "    cv2.imwrite('ReadFrame.jpg', frame)\n",
    "\n",
    "    results = model(\"ReadFrame.jpg\")\n",
    "    \n",
    "    i += 1\n",
    " \n",
    "videoFeed.release()\n",
    "cv2.destroyAllWindows()"
   ]
  }
 ],
 "metadata": {
  "kernelspec": {
   "display_name": "Python 3.10.7 64-bit",
   "language": "python",
   "name": "python3"
  },
  "language_info": {
   "codemirror_mode": {
    "name": "ipython",
    "version": 3
   },
   "file_extension": ".py",
   "mimetype": "text/x-python",
   "name": "python",
   "nbconvert_exporter": "python",
   "pygments_lexer": "ipython3",
   "version": "3.10.7"
  },
  "orig_nbformat": 4,
  "vscode": {
   "interpreter": {
    "hash": "38f61edcffe7d26efb585c3284772c1e73fd6d5a0390d16fcb75f3fdfcf1c0b7"
   }
  }
 },
 "nbformat": 4,
 "nbformat_minor": 2
}
